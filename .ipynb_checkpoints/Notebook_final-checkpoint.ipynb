{
 "cells": [
  {
   "cell_type": "markdown",
   "metadata": {},
   "source": [
    "# Notebook Projet Python - Cryptomonnaies et écologie : la part d'ombre d'une révolution moderne"
   ]
  },
  {
   "cell_type": "markdown",
   "metadata": {},
   "source": [
    "Inspiré par les objectifs ambitieux de l’Accord de Paris sur le climat issu de la COP21 (2015), plusieurs entreprises privées et ONG internationales des secteurs financiers et énergétiques ont décidé de s’engager pour la création d’un Crypto Climate Accord en mars 2021, initiative soutenue par le Forum Économique mondial (FEM) et l’UNFCC (United Nations Climate Change) visant la neutralité carbone pour les cryptomonnaies à l’horizon 2030. Ce projet illustre la prise de conscience progressive par les professionnels du secteur comme par les particuliers de l’impact environnemental fort des cryptomonnaies, du fait de l’explosion de la demande pour celles-ci en une dizaine d’années seulement. On désigne par cryptomonnaies un ensemble de monnaies numériques émises de pair à pair, reposant sur une blockchain et dont la création monétaire (le « minage »), ne nécessitant pas l’existence d’une banque centrale, se produit suivant des schémas algorithmiques similaires aux logiques de découverte de l’or : une ressource épuisable, de plus en plus complexe et coûteuse à découvrir, augmentant ainsi sa valeur avec le temps. Depuis l’apparition des cryptomonnaies de première génération avec la création du Bitcoin en 2009, et plus encore depuis le premier boom du cours de cette « monnaie » en 2013, le secteur a connu un croissance exceptionnelle, se traduisant à la fois par la multiplication  des cryptomonnaies,  près de 15 617(1) différentes au 14 juin 2021, et par l’augmentation des échanges de celles-ci, pour une valeur totale de 2 031(1) milliards de dollars à cette même date, soit quasiment 90% du PIB français. Actuellement, les 5 principales cryptomonnaies échangées sont : le Bitcoin, l’Ethereum, le Ripple, le Bitcoin cash et le Litecoin. Cette croissance du marché des cryptomonnaies, et le fonctionnement même de leur minage, a causé en parallèle un impact écologique de plus en plus lourd. De fait, l’émission, et dans une moindre mesure la diffusion, des différentes cryptomonnaies nécessitant un flux important d’électricité, engendrent ainsi des émissions de carbone fortes pour ce secteur. Ce fait est progressivement admis par l’ensemble des acteurs du marché, comme le montre le Crypto Climate Accord mentionné précédemment ainsi que les nombreux projets autour de l’Ethereum pour réduire drastiquement ses émissions par des évolutions sur sa blockchain(2). Néanmoins, l’ampleur exacte de l’empreinte énergétique des cryptomonnaies semble peu connu du grand public, et notamment des acheteurs, ceci pouvant s’expliquer en partie par la diversité des estimations avancées par de nombreuses sources scientifiques. \n",
    "\tAinsi, le premier enjeu majeur de notre mémoire sera de quantifier et modéliser précisément cet impact énergétique du minage des cryptomonnaies et de le comparer avec des ordres de grandeur semblables (consommation énergétique d’un pays). \n",
    "\tEn allant plus loin, nous chercherons à localiser les régions où sont minées les cryptomonnaies, pour comprendre quels territoires subissent les impacts écologiques de la forte empreinte énergétique. \n",
    "\tUn dernier enjeu clé de la relation entre cryptomonnaies et écologie que nous analyserons sera celui des déchets électroniques créés par le minage, comme les machines ASICs inutilisées dès qu’elles ne sont plus rentables. Angle-mort de nombreuses recherches scientifiques sur le sujet, cette approche nous permettra de développer un autre aspect de l’impact environnemental des cryptomonnaies. \n",
    "\n",
    "Finalement : \n",
    "\n",
    ">#  Dans quelle mesure les cryptomonnaies, véritable révolution technologique et économique, ont un impact écologique néfaste / lourd ?\n",
    "\n",
    "\n",
    "(1) : D’après les données de CoinMarketCap, https://coinmarketcap.com/\n",
    "\n",
    "(2) : Article de The Guardian, Mai 2021 : https://www.theguardian.com/technology/2021/may/19/ethereum-cryptocurrency-to-slash-carbon-emissions"
   ]
  },
  {
   "cell_type": "markdown",
   "metadata": {},
   "source": [
    "# 0. Importations"
   ]
  },
  {
   "cell_type": "code",
   "execution_count": 2,
   "metadata": {},
   "outputs": [],
   "source": [
    "import numpy as np\n",
    "from numpy import log\n",
    "\n",
    "import pandas as pd  \n",
    "from pandas import json_normalize\n",
    "\n",
    "import matplotlib.pyplot as plt \n",
    "import plotly.express as px\n",
    "\n",
    "import statistics\n",
    "import urllib\n",
    "import bs4\n",
    "\n",
    "import statsmodels.api as sm\n",
    "import seaborn as sns\n",
    "import json\n",
    "\n",
    "import urllib.request as r\n",
    "from bs4 import BeautifulSoup as bs"
   ]
  },
  {
   "cell_type": "code",
   "execution_count": null,
   "metadata": {},
   "outputs": [],
   "source": []
  },
  {
   "cell_type": "code",
   "execution_count": null,
   "metadata": {},
   "outputs": [],
   "source": []
  },
  {
   "cell_type": "markdown",
   "metadata": {},
   "source": [
    "# II. Visualisation du minage de cryptomonnaie \n"
   ]
  },
  {
   "cell_type": "markdown",
   "metadata": {},
   "source": [
    "II.1 Consommation éléctrique du Bitcoin en 2019"
   ]
  },
  {
   "cell_type": "markdown",
   "metadata": {},
   "source": [
    "D'abord on a cherché a donné un ordre de grandeur à l'électricité consommée par le minage de cryptomonnaie. Pour cela on compare la valeur trouvé dans la première partie à la consommation électriques de différents pays\n",
    " "
   ]
  },
  {
   "cell_type": "code",
   "execution_count": null,
   "metadata": {},
   "outputs": [],
   "source": [
    "pays_elec_json=\"https://raw.githubusercontent.com/GeoffroyENSAE/Cryptomonnaies-et-ecologie/main/pays_electricte_2019.json\"\n",
    "g = open(pays_elec_json)\n",
    "h = json.load(g)\n",
    "pays_elec = json_normalize(h) \n",
    "#On isole le nom du pays et on supprime les colonnes inutiles\n",
    "pays_elec=pays_elec.join(pays_elec['name'].str.split(',', expand=True).rename(columns={0:'A', 1:'country',2:'C',3:'D'}))\n",
    "pays_elec= pays_elec.drop(['series_id', 'frequency', 'productid', 'activityid', 'iso','A','C','D','name'],axis=1)"
   ]
  },
  {
   "cell_type": "code",
   "execution_count": null,
   "metadata": {},
   "outputs": [],
   "source": [
    "#on récupère la consommation énérgétique du pays \n",
    "for i in range(pays_elec.shape[0]):\n",
    "    pays_elec['data'].iloc[i]=pays_elec['data'].iloc[i][0]['value']\n",
    "    \n",
    "#on donne 0 comme valeur lorsque la consommation énergétique n'est pas un nombre pour pouvoir trier les valeurs    \n",
    "for i in range(227):\n",
    "    if type(pays_elec['data'].iloc[i])==int :\n",
    "        pays_elec['data'].iloc[i]=float(pays_elec['data'].iloc[i])\n",
    "    elif type(pays_elec['data'].iloc[i])!=float :\n",
    "        pays_elec['data'].iloc[i]=0 "
   ]
  },
  {
   "cell_type": "code",
   "execution_count": null,
   "metadata": {},
   "outputs": [],
   "source": [
    "#on ajoute les valeurs du Bitcoin et on trie les valeurs \n",
    "pays_elec=pays_elec.append({'unit' : 'BKWH', 'data' : 73.3,'country':'Bitcoin'} , ignore_index=True).sort_values(by = 'data',ascending=False)\n",
    "pays_elec=pays_elec.append({'unit' : 'BKWH', 'data' : 42.3,'country':'Bitcoin_inf'} , ignore_index=True).sort_values(by = 'data',ascending=False)\n",
    "pays_elec=pays_elec.append({'unit' : 'BKWH', 'data' : 122.1,'country':'Bitcoin_sup'} , ignore_index=True).sort_values(by = 'data',ascending=False).reset_index(drop=True)\n"
   ]
  },
  {
   "cell_type": "code",
   "execution_count": null,
   "metadata": {},
   "outputs": [],
   "source": [
    "#on ne garde que les pays avec des consommations énergétiques comparables au bitcoin et on ajoute le bitcoin à ce df\n",
    "new_pays_elec=pays_elec.iloc[30:60,:]\n",
    "\n",
    "# on réalise ensuite un graphique en barres\n",
    "plt.figure(figsize=(10,6))\n",
    "palette=['red' if (x==\"Bitcoin_sup\"or x==\"Bitcoin\"or x==\"Bitcoin_inf\" ) else 'grey' for x in new_pays_elec['country']]\n",
    "sns.barplot(x=new_pays_elec['country'], y=new_pays_elec['data'], palette=palette)\n",
    "plt.xlabel('\\nPays', fontsize=15, color='#c0392b')\n",
    "plt.ylabel(\"électrcité consommée en TWh \\n\", fontsize=15, color='#c0392b')\n",
    "plt.title(\"Consommation d'electricité de différents pays en 2019\\n\", fontsize=18, color='#e74c3c')\n",
    "plt.xticks(rotation=90)\n",
    "plt.tight_layout()"
   ]
  },
  {
   "cell_type": "markdown",
   "metadata": {},
   "source": [
    "ANALYSE DU GRAPHIQUE "
   ]
  },
  {
   "cell_type": "markdown",
   "metadata": {},
   "source": [
    "Pour donner une autre image on peut comparer la consommaiton éléectrique du Bitcoin en 2019 à celle de la France "
   ]
  },
  {
   "cell_type": "code",
   "execution_count": null,
   "metadata": {},
   "outputs": [],
   "source": [
    "pays_reduit=pays_elec.loc[pays_elec['country'].isin([\" France\",\"Bitcoin\",\"Bitcoin_sup\",\"Bitcoin_inf\"])]\n",
    "\n",
    "pays_reduit['data']=pays_reduit['data']/pays_reduit['data'].iloc[0]*100\n",
    "bitcoin=pays_reduit['data'].iloc[1]\n",
    "\n",
    "# Pie chart\n",
    "labels = ['Bitcoin', 'other']\n",
    "sizes = [bitcoin,100-bitcoin]\n",
    "colors = ['red','grey']\n",
    "explode = (0.1,0)\n",
    " \n",
    "plt.pie(sizes, colors = colors, labels=labels, autopct='%1.1f%%', startangle=90, pctdistance=0.85, explode = explode)\n",
    "#draw circle\n",
    "centre_circle = plt.Circle((0,0),0.70,fc='white')\n",
    "fig = plt.gcf()\n",
    "fig.gca().add_artist(centre_circle)\n",
    "# Equal aspect ratio ensures that pie is drawn as a circle\n",
    "plt.axis('equal')  \n",
    "plt.title(\"Part de la consommation du Bitcoinpar rapport à la consommation électrique de la France \\n\", fontsize=18, color='#e74c3c')\n",
    "plt.tight_layout()\n",
    "plt.show()"
   ]
  },
  {
   "cell_type": "markdown",
   "metadata": {},
   "source": [
    "ANALYSE DU CAMEMBERT "
   ]
  },
  {
   "cell_type": "markdown",
   "metadata": {},
   "source": [
    "II.2 Evolution du minage par pays "
   ]
  },
  {
   "cell_type": "code",
   "execution_count": null,
   "metadata": {},
   "outputs": [],
   "source": []
  },
  {
   "cell_type": "code",
   "execution_count": null,
   "metadata": {},
   "outputs": [],
   "source": [
    "path_pays=\"https://raw.githubusercontent.com/GeoffroyENSAE/Cryptomonnaies-et-ecologie/main/hashrate_country_2019_2021.csv\"\n",
    "#on charge les données sur le Hashrate par pays\n",
    "df=pd.read_csv(path_pays,sep=\",\")\n",
    "\n",
    "#on représente l'évolution des Hashrates mensuels par pays \n",
    "plt.figure(figsize=(15,8))\n",
    "sns.lineplot(x =df[\"date\"], y = df[\"monthly_absolute_hashrate_EH/S\"],hue = df[\"country\"],  legend=\"brief\", marker='o')\n",
    "\n",
    "plt.xlabel('\\nDate', fontsize=15, color='#c0392b')\n",
    "plt.ylabel(\"Hashrate mensuel en ES/s \\n\", fontsize=15, color='#c0392b')\n",
    "plt.title(\"Evolution du hashrate des pays entre 2019 et 2021\\n\", fontsize=18, color='#e74c3c')\n",
    "\n",
    "plt.xticks(rotation=90)\n",
    "plt.tight_layout()"
   ]
  },
  {
   "cell_type": "markdown",
   "metadata": {},
   "source": [
    "ANALYSE DE L42VOLUTION DES HASHRATES\n"
   ]
  },
  {
   "cell_type": "code",
   "execution_count": null,
   "metadata": {},
   "outputs": [],
   "source": []
  }
 ],
 "metadata": {
  "kernelspec": {
   "display_name": "Python 3 (ipykernel)",
   "language": "python",
   "name": "python3"
  },
  "language_info": {
   "codemirror_mode": {
    "name": "ipython",
    "version": 3
   },
   "file_extension": ".py",
   "mimetype": "text/x-python",
   "name": "python",
   "nbconvert_exporter": "python",
   "pygments_lexer": "ipython3",
   "version": "3.9.7"
  }
 },
 "nbformat": 4,
 "nbformat_minor": 4
}
