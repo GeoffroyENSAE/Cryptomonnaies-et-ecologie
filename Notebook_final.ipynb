{
 "cells": [
  {
   "cell_type": "markdown",
   "metadata": {},
   "source": [
    "# Notebook Projet Python - Cryptomonnaies et écologie : la part d'ombre d'une révolution moderne"
   ]
  },
  {
   "cell_type": "markdown",
   "metadata": {},
   "source": [
    "Inspiré par les objectifs ambitieux de l’Accord de Paris sur le climat issu de la COP21 (2015), plusieurs entreprises privées et ONG internationales des secteurs financiers et énergétiques ont décidé de s’engager pour la création d’un Crypto Climate Accord en mars 2021, initiative soutenue par le Forum Économique mondial (FEM) et l’UNFCC (United Nations Climate Change) visant la neutralité carbone pour les cryptomonnaies à l’horizon 2030. Ce projet illustre la prise de conscience progressive par les professionnels du secteur comme par les particuliers de l’impact environnemental fort des cryptomonnaies, du fait de l’explosion de la demande pour celles-ci en une dizaine d’années seulement. On désigne par cryptomonnaies un ensemble de monnaies numériques émises de pair à pair, reposant sur une blockchain et dont la création monétaire (le « minage »), ne nécessitant pas l’existence d’une banque centrale, se produit suivant des schémas algorithmiques similaires aux logiques de découverte de l’or : une ressource épuisable, de plus en plus complexe et coûteuse à découvrir, augmentant ainsi sa valeur avec le temps. Depuis l’apparition des cryptomonnaies de première génération avec la création du Bitcoin en 2009, et plus encore depuis le premier boom du cours de cette « monnaie » en 2013, le secteur a connu un croissance exceptionnelle, se traduisant à la fois par la multiplication  des cryptomonnaies,  près de 15 617(1) différentes au 14 juin 2021, et par l’augmentation des échanges de celles-ci, pour une valeur totale de 2 031(1) milliards de dollars à cette même date, soit quasiment 90% du PIB français. Actuellement, les 5 principales cryptomonnaies échangées sont : le Bitcoin, l’Ethereum, le Ripple, le Bitcoin cash et le Litecoin. Cette croissance du marché des cryptomonnaies, et le fonctionnement même de leur minage, a causé en parallèle un impact écologique de plus en plus lourd. De fait, l’émission, et dans une moindre mesure la diffusion, des différentes cryptomonnaies nécessitant un flux important d’électricité, engendrent ainsi des émissions de carbone fortes pour ce secteur. Ce fait est progressivement admis par l’ensemble des acteurs du marché, comme le montre le Crypto Climate Accord mentionné précédemment ainsi que les nombreux projets autour de l’Ethereum pour réduire drastiquement ses émissions par des évolutions sur sa blockchain(2). Néanmoins, l’ampleur exacte de l’empreinte énergétique des cryptomonnaies semble peu connu du grand public, et notamment des acheteurs, ceci pouvant s’expliquer en partie par la diversité des estimations avancées par de nombreuses sources scientifiques. \n",
    "\tAinsi, le premier enjeu majeur de notre mémoire sera de quantifier et modéliser précisément cet impact énergétique du minage des cryptomonnaies et de le comparer avec des ordres de grandeur semblables (consommation énergétique d’un pays). \n",
    "\tEn allant plus loin, nous chercherons à localiser les régions où sont minées les cryptomonnaies, pour comprendre quels territoires subissent les impacts écologiques de la forte empreinte énergétique. \n",
    "\tUn dernier enjeu clé de la relation entre cryptomonnaies et écologie que nous analyserons sera celui des déchets électroniques créés par le minage, comme les machines ASICs inutilisées dès qu’elles ne sont plus rentables. Angle-mort de nombreuses recherches scientifiques sur le sujet, cette approche nous permettra de développer un autre aspect de l’impact environnemental des cryptomonnaies. \n",
    "\n",
    "Finalement : \n",
    "\n",
    "> Dans quelle mesure les cryptomonnaies, véritable révolution technologique et économique, ont un impact écologique néfaste / lourd ?\n",
    "(1) : D’après les données de CoinMarketCap, https://coinmarketcap.com/\n",
    "(2) : Article de The Guardian, Mai 2021 : https://www.theguardian.com/technology/2021/may/19/ethereum-cryptocurrency-to-slash-carbon-emissions"
   ]
  },
  {
   "cell_type": "code",
   "execution_count": null,
   "metadata": {},
   "outputs": [],
   "source": []
  }
 ],
 "metadata": {
  "kernelspec": {
   "display_name": "R",
   "language": "R",
   "name": "ir"
  }
 },
 "nbformat": 4,
 "nbformat_minor": 4
}
