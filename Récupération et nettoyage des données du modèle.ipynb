{
 "cells": [
  {
   "cell_type": "markdown",
   "metadata": {},
   "source": [
    "# Récupération et nettoyage des données du modèle"
   ]
  },
  {
   "cell_type": "code",
   "execution_count": 1,
   "metadata": {},
   "outputs": [],
   "source": [
    "import numpy as np\n",
    "import pandas as pd  \n",
    "import matplotlib.pyplot as plt \n",
    "import statistics"
   ]
  },
  {
   "cell_type": "code",
   "execution_count": 2,
   "metadata": {},
   "outputs": [],
   "source": [
    "path1 = '/Users/geoffroyperonne/Desktop/Hashrate.csv'\n",
    "path2 = '/Users/geoffroyperonne/Desktop/cours.csv'"
   ]
  },
  {
   "cell_type": "code",
   "execution_count": 3,
   "metadata": {},
   "outputs": [],
   "source": [
    "df1 = pd.read_csv(path1,sep=';') \n",
    "df2 = pd.read_csv(path2,sep=';')"
   ]
  },
  {
   "cell_type": "code",
   "execution_count": 4,
   "metadata": {},
   "outputs": [],
   "source": [
    "df1=df1.join(df1['DateTime'].str.split(' ',expand=True).rename(columns={0:'Date',1:'inutile',2:'Hashrate'}))\n",
    "df1=df1.drop(['DateTime','inutile'],axis=1)\n",
    "df2=df2.drop(['Ouv.','Plus Haut','Plus Bas','Vol.','Variation %'],axis=1)"
   ]
  },
  {
   "cell_type": "code",
   "execution_count": 5,
   "metadata": {},
   "outputs": [],
   "source": [
    "df1['Date'] = pd.to_datetime(df1['Date'])\n",
    "df2['Date'] = pd.to_datetime(df2['Date'])"
   ]
  },
  {
   "cell_type": "code",
   "execution_count": 6,
   "metadata": {},
   "outputs": [],
   "source": [
    "df2['Dernier']=df2['Dernier'].replace('.','')"
   ]
  },
  {
   "cell_type": "code",
   "execution_count": 7,
   "metadata": {},
   "outputs": [],
   "source": [
    "def nettoyer1(x):\n",
    "    return(float(x.replace(',','.')))\n",
    "\n",
    "def nettoyer2(x):\n",
    "    return(float((x.replace('.','')).replace(',','.')))\n",
    "\n",
    "def string(x):\n",
    "    return(str(x))\n",
    "\n",
    "def entier(x):\n",
    "    return(int(x))"
   ]
  },
  {
   "cell_type": "code",
   "execution_count": 8,
   "metadata": {},
   "outputs": [],
   "source": [
    "df1['Hash Rate']=df1['Hash Rate'].apply(nettoyer1)\n",
    "df2['Dernier']=df2['Dernier'].apply(nettoyer2)"
   ]
  },
  {
   "cell_type": "code",
   "execution_count": 9,
   "metadata": {},
   "outputs": [],
   "source": [
    "df=df1.merge(df2)\n",
    "df=df.assign(BTC=0)"
   ]
  },
  {
   "cell_type": "code",
   "execution_count": 10,
   "metadata": {},
   "outputs": [
    {
     "name": "stderr",
     "output_type": "stream",
     "text": [
      "<ipython-input-10-5bf19dc8d0d1>:2: SettingWithCopyWarning: \n",
      "A value is trying to be set on a copy of a slice from a DataFrame\n",
      "\n",
      "See the caveats in the documentation: https://pandas.pydata.org/pandas-docs/stable/user_guide/indexing.html#returning-a-view-versus-a-copy\n",
      "  df['BTC'][i]=3600\n",
      "<ipython-input-10-5bf19dc8d0d1>:5: SettingWithCopyWarning: \n",
      "A value is trying to be set on a copy of a slice from a DataFrame\n",
      "\n",
      "See the caveats in the documentation: https://pandas.pydata.org/pandas-docs/stable/user_guide/indexing.html#returning-a-view-versus-a-copy\n",
      "  df['BTC'][i]=1800\n",
      "<ipython-input-10-5bf19dc8d0d1>:8: SettingWithCopyWarning: \n",
      "A value is trying to be set on a copy of a slice from a DataFrame\n",
      "\n",
      "See the caveats in the documentation: https://pandas.pydata.org/pandas-docs/stable/user_guide/indexing.html#returning-a-view-versus-a-copy\n",
      "  df['BTC'][i]=900\n"
     ]
    }
   ],
   "source": [
    "for i in range(575):\n",
    "    df['BTC'][i]=3600\n",
    "\n",
    "for i in range(575,2035):\n",
    "    df['BTC'][i]=1800\n",
    "    \n",
    "for i in range(2035,2557):\n",
    "    df['BTC'][i]=900"
   ]
  },
  {
   "cell_type": "code",
   "execution_count": 11,
   "metadata": {},
   "outputs": [],
   "source": [
    "df=df.assign(Seuil=(df['BTC']*df['Dernier'])/(0.1*24)/(df['Hash Rate']*10**(-12)))"
   ]
  },
  {
   "cell_type": "code",
   "execution_count": 13,
   "metadata": {},
   "outputs": [],
   "source": [
    "df['Seuil']=df['Seuil'].rolling(50).mean()"
   ]
  },
  {
   "cell_type": "code",
   "execution_count": 14,
   "metadata": {},
   "outputs": [
    {
     "data": {
      "text/html": [
       "<div>\n",
       "<style scoped>\n",
       "    .dataframe tbody tr th:only-of-type {\n",
       "        vertical-align: middle;\n",
       "    }\n",
       "\n",
       "    .dataframe tbody tr th {\n",
       "        vertical-align: top;\n",
       "    }\n",
       "\n",
       "    .dataframe thead th {\n",
       "        text-align: right;\n",
       "    }\n",
       "</style>\n",
       "<table border=\"1\" class=\"dataframe\">\n",
       "  <thead>\n",
       "    <tr style=\"text-align: right;\">\n",
       "      <th></th>\n",
       "      <th>Hash Rate</th>\n",
       "      <th>Date</th>\n",
       "      <th>Dernier</th>\n",
       "      <th>BTC</th>\n",
       "      <th>Seuil</th>\n",
       "    </tr>\n",
       "  </thead>\n",
       "  <tbody>\n",
       "    <tr>\n",
       "      <th>0</th>\n",
       "      <td>3.333450e+17</td>\n",
       "      <td>2015-01-01</td>\n",
       "      <td>314.9</td>\n",
       "      <td>3600</td>\n",
       "      <td>NaN</td>\n",
       "    </tr>\n",
       "    <tr>\n",
       "      <th>1</th>\n",
       "      <td>3.333450e+17</td>\n",
       "      <td>2015-01-02</td>\n",
       "      <td>225.3</td>\n",
       "      <td>3600</td>\n",
       "      <td>NaN</td>\n",
       "    </tr>\n",
       "    <tr>\n",
       "      <th>2</th>\n",
       "      <td>3.272842e+17</td>\n",
       "      <td>2015-01-03</td>\n",
       "      <td>257.9</td>\n",
       "      <td>3600</td>\n",
       "      <td>NaN</td>\n",
       "    </tr>\n",
       "    <tr>\n",
       "      <th>3</th>\n",
       "      <td>3.474869e+17</td>\n",
       "      <td>2015-01-04</td>\n",
       "      <td>246.2</td>\n",
       "      <td>3600</td>\n",
       "      <td>NaN</td>\n",
       "    </tr>\n",
       "    <tr>\n",
       "      <th>4</th>\n",
       "      <td>3.151626e+17</td>\n",
       "      <td>2015-01-05</td>\n",
       "      <td>233.2</td>\n",
       "      <td>3600</td>\n",
       "      <td>NaN</td>\n",
       "    </tr>\n",
       "    <tr>\n",
       "      <th>...</th>\n",
       "      <td>...</td>\n",
       "      <td>...</td>\n",
       "      <td>...</td>\n",
       "      <td>...</td>\n",
       "      <td>...</td>\n",
       "    </tr>\n",
       "    <tr>\n",
       "      <th>2552</th>\n",
       "      <td>1.785745e+20</td>\n",
       "      <td>2021-12-27</td>\n",
       "      <td>50678.2</td>\n",
       "      <td>900</td>\n",
       "      <td>0.118343</td>\n",
       "    </tr>\n",
       "    <tr>\n",
       "      <th>2553</th>\n",
       "      <td>1.616823e+20</td>\n",
       "      <td>2021-12-28</td>\n",
       "      <td>47545.2</td>\n",
       "      <td>900</td>\n",
       "      <td>0.118197</td>\n",
       "    </tr>\n",
       "    <tr>\n",
       "      <th>2554</th>\n",
       "      <td>1.749547e+20</td>\n",
       "      <td>2021-12-29</td>\n",
       "      <td>46461.7</td>\n",
       "      <td>900</td>\n",
       "      <td>0.118119</td>\n",
       "    </tr>\n",
       "    <tr>\n",
       "      <th>2555</th>\n",
       "      <td>1.435835e+20</td>\n",
       "      <td>2021-12-30</td>\n",
       "      <td>47123.3</td>\n",
       "      <td>900</td>\n",
       "      <td>0.117894</td>\n",
       "    </tr>\n",
       "    <tr>\n",
       "      <th>2556</th>\n",
       "      <td>1.797810e+20</td>\n",
       "      <td>2021-12-31</td>\n",
       "      <td>47179.5</td>\n",
       "      <td>900</td>\n",
       "      <td>0.117005</td>\n",
       "    </tr>\n",
       "  </tbody>\n",
       "</table>\n",
       "<p>2557 rows × 5 columns</p>\n",
       "</div>"
      ],
      "text/plain": [
       "         Hash Rate       Date  Dernier   BTC     Seuil\n",
       "0     3.333450e+17 2015-01-01    314.9  3600       NaN\n",
       "1     3.333450e+17 2015-01-02    225.3  3600       NaN\n",
       "2     3.272842e+17 2015-01-03    257.9  3600       NaN\n",
       "3     3.474869e+17 2015-01-04    246.2  3600       NaN\n",
       "4     3.151626e+17 2015-01-05    233.2  3600       NaN\n",
       "...            ...        ...      ...   ...       ...\n",
       "2552  1.785745e+20 2021-12-27  50678.2   900  0.118343\n",
       "2553  1.616823e+20 2021-12-28  47545.2   900  0.118197\n",
       "2554  1.749547e+20 2021-12-29  46461.7   900  0.118119\n",
       "2555  1.435835e+20 2021-12-30  47123.3   900  0.117894\n",
       "2556  1.797810e+20 2021-12-31  47179.5   900  0.117005\n",
       "\n",
       "[2557 rows x 5 columns]"
      ]
     },
     "execution_count": 14,
     "metadata": {},
     "output_type": "execute_result"
    }
   ],
   "source": [
    "df"
   ]
  },
  {
   "cell_type": "code",
   "execution_count": null,
   "metadata": {},
   "outputs": [],
   "source": []
  }
 ],
 "metadata": {
  "kernelspec": {
   "display_name": "Python 3",
   "language": "python",
   "name": "python3"
  },
  "language_info": {
   "codemirror_mode": {
    "name": "ipython",
    "version": 3
   },
   "file_extension": ".py",
   "mimetype": "text/x-python",
   "name": "python",
   "nbconvert_exporter": "python",
   "pygments_lexer": "ipython3",
   "version": "3.8.5"
  }
 },
 "nbformat": 4,
 "nbformat_minor": 4
}
