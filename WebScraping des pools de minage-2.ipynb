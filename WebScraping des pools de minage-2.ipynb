{
 "cells": [
  {
   "cell_type": "markdown",
   "metadata": {},
   "source": [
    "# WebScraping des pools de minage"
   ]
  },
  {
   "cell_type": "code",
   "execution_count": 1,
   "metadata": {},
   "outputs": [],
   "source": [
    "import urllib\n",
    "import bs4\n",
    "import pandas as pd"
   ]
  },
  {
   "cell_type": "code",
   "execution_count": 2,
   "metadata": {},
   "outputs": [],
   "source": [
    "req = urllib.request.Request('https://btc.com',\n",
    "                             headers={'User-Agent': 'Mozilla/5.0'})\n",
    "html = urllib.request.urlopen(req).read()\n",
    "page = bs4.BeautifulSoup(html, \"lxml\")"
   ]
  },
  {
   "cell_type": "code",
   "execution_count": 3,
   "metadata": {},
   "outputs": [],
   "source": [
    "## Extraction des hashrate\n",
    "\n",
    "hashrate=[]\n",
    "for i in range(0,10):\n",
    "    hashrate.append(float(page.find_all('tbody')[0].find_all('div',{'class':'nowrap'})[2*i+1].find_all('span',{'class':'undefined home_hash-rate-text__1HjQg'})[0].text))\n"
   ]
  },
  {
   "cell_type": "code",
   "execution_count": 6,
   "metadata": {},
   "outputs": [
    {
     "data": {
      "text/html": [
       "<div>\n",
       "<style scoped>\n",
       "    .dataframe tbody tr th:only-of-type {\n",
       "        vertical-align: middle;\n",
       "    }\n",
       "\n",
       "    .dataframe tbody tr th {\n",
       "        vertical-align: top;\n",
       "    }\n",
       "\n",
       "    .dataframe thead th {\n",
       "        text-align: right;\n",
       "    }\n",
       "</style>\n",
       "<table border=\"1\" class=\"dataframe\">\n",
       "  <thead>\n",
       "    <tr style=\"text-align: right;\">\n",
       "      <th></th>\n",
       "      <th>Nom du Pool</th>\n",
       "      <th>Hashrate (en PH/s)</th>\n",
       "    </tr>\n",
       "  </thead>\n",
       "  <tbody>\n",
       "    <tr>\n",
       "      <th>0</th>\n",
       "      <td>Foundry USA</td>\n",
       "      <td>29322.72</td>\n",
       "    </tr>\n",
       "    <tr>\n",
       "      <th>1</th>\n",
       "      <td>AntPool</td>\n",
       "      <td>25818.50</td>\n",
       "    </tr>\n",
       "    <tr>\n",
       "      <th>2</th>\n",
       "      <td>Poolin</td>\n",
       "      <td>21933.00</td>\n",
       "    </tr>\n",
       "    <tr>\n",
       "      <th>3</th>\n",
       "      <td>F2Pool</td>\n",
       "      <td>21655.40</td>\n",
       "    </tr>\n",
       "    <tr>\n",
       "      <th>4</th>\n",
       "      <td>ViaBTC</td>\n",
       "      <td>17845.10</td>\n",
       "    </tr>\n",
       "    <tr>\n",
       "      <th>5</th>\n",
       "      <td>Binance Pool</td>\n",
       "      <td>17721.90</td>\n",
       "    </tr>\n",
       "    <tr>\n",
       "      <th>6</th>\n",
       "      <td>BTC.com</td>\n",
       "      <td>11890.00</td>\n",
       "    </tr>\n",
       "    <tr>\n",
       "      <th>7</th>\n",
       "      <td>SlushPool</td>\n",
       "      <td>8707.35</td>\n",
       "    </tr>\n",
       "    <tr>\n",
       "      <th>8</th>\n",
       "      <td>SBI Crypto</td>\n",
       "      <td>3561.87</td>\n",
       "    </tr>\n",
       "    <tr>\n",
       "      <th>9</th>\n",
       "      <td>Luxor</td>\n",
       "      <td>3187.67</td>\n",
       "    </tr>\n",
       "  </tbody>\n",
       "</table>\n",
       "</div>"
      ],
      "text/plain": [
       "    Nom du Pool  Hashrate (en PH/s)\n",
       "0   Foundry USA            29322.72\n",
       "1       AntPool            25818.50\n",
       "2        Poolin            21933.00\n",
       "3        F2Pool            21655.40\n",
       "4        ViaBTC            17845.10\n",
       "5  Binance Pool            17721.90\n",
       "6       BTC.com            11890.00\n",
       "7     SlushPool             8707.35\n",
       "8    SBI Crypto             3561.87\n",
       "9         Luxor             3187.67"
      ]
     },
     "execution_count": 6,
     "metadata": {},
     "output_type": "execute_result"
    }
   ],
   "source": [
    "## Extraction des noms des pools\n",
    "\n",
    "nom=[]\n",
    "for i in range(0,10):\n",
    "    nom.append(page.find_all('tbody')[0].find_all('a',{'class':'nowrap TextLink_link__8QSlZ TextLink_pointer__1mGtG pool_name'})[i].find_all('span')[1].text)\n",
    "\n",
    "df=pd.DataFrame({'Nom du Pool':nom,'Hashrate (en PH/s)':hashrate})\n",
    "\n",
    "df"
   ]
  },
  {
   "cell_type": "code",
   "execution_count": 7,
   "metadata": {},
   "outputs": [
    {
     "name": "stdout",
     "output_type": "stream",
     "text": [
      "161643.51\n"
     ]
    }
   ],
   "source": [
    "print(df[\"Hashrate (en PH/s)\"].sum())"
   ]
  }
 ],
 "metadata": {
  "kernelspec": {
   "display_name": "Python 3",
   "language": "python",
   "name": "python3"
  },
  "language_info": {
   "codemirror_mode": {
    "name": "ipython",
    "version": 3
   },
   "file_extension": ".py",
   "mimetype": "text/x-python",
   "name": "python",
   "nbconvert_exporter": "python",
   "pygments_lexer": "ipython3",
   "version": "3.8.5"
  }
 },
 "nbformat": 4,
 "nbformat_minor": 4
}
