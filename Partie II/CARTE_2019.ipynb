{
 "cells": [
  {
   "cell_type": "code",
   "execution_count": 2,
   "id": "ac3b5ba5",
   "metadata": {},
   "outputs": [],
   "source": [
    "import plotly.express as px\n",
    "import json\n",
    "import pandas as pd\n",
    "import numpy as np\n",
    "import matplotlib.pyplot as plt\n",
    "import seaborn as sns\n",
    "from pandas import json_normalize\n",
    "from numpy import log"
   ]
  },
  {
   "cell_type": "code",
   "execution_count": 4,
   "id": "3145ad11",
   "metadata": {},
   "outputs": [],
   "source": [
    "path_pays=\"/Users/louisedubois/Desktop/Cryptomonnaies-et-ecologie-La-part-d-ombre-d-une-r-volution-moderne/hashrate_country_2019_2021.csv\"\n",
    "path_json=\"/Users/louisedubois/Desktop/Cryptomonnaies-et-ecologie-La-part-d-ombre-d-une-r-volution-moderne/countries.geojson\"\n",
    "#on charge les données sur le Hashrate par pays\n",
    "df=pd.read_csv(path_pays,sep=\",\")"
   ]
  },
  {
   "cell_type": "code",
   "execution_count": 5,
   "id": "8c2d1c3a",
   "metadata": {},
   "outputs": [
    {
     "name": "stderr",
     "output_type": "stream",
     "text": [
      "/var/folders/nl/g373_csn5kx03w80c1r1g7500000gn/T/ipykernel_19745/2304758411.py:1: SettingWithCopyWarning: \n",
      "A value is trying to be set on a copy of a slice from a DataFrame\n",
      "\n",
      "See the caveats in the documentation: https://pandas.pydata.org/pandas-docs/stable/user_guide/indexing.html#returning-a-view-versus-a-copy\n",
      "  df['country'][0]='China'\n",
      "/var/folders/nl/g373_csn5kx03w80c1r1g7500000gn/T/ipykernel_19745/2304758411.py:2: SettingWithCopyWarning: \n",
      "A value is trying to be set on a copy of a slice from a DataFrame\n",
      "\n",
      "See the caveats in the documentation: https://pandas.pydata.org/pandas-docs/stable/user_guide/indexing.html#returning-a-view-versus-a-copy\n",
      "  df['country'][1]='Russia'\n",
      "/var/folders/nl/g373_csn5kx03w80c1r1g7500000gn/T/ipykernel_19745/2304758411.py:3: SettingWithCopyWarning: \n",
      "A value is trying to be set on a copy of a slice from a DataFrame\n",
      "\n",
      "See the caveats in the documentation: https://pandas.pydata.org/pandas-docs/stable/user_guide/indexing.html#returning-a-view-versus-a-copy\n",
      "  df['country'][5]='Iran'\n",
      "/var/folders/nl/g373_csn5kx03w80c1r1g7500000gn/T/ipykernel_19745/2304758411.py:4: SettingWithCopyWarning: \n",
      "A value is trying to be set on a copy of a slice from a DataFrame\n",
      "\n",
      "See the caveats in the documentation: https://pandas.pydata.org/pandas-docs/stable/user_guide/indexing.html#returning-a-view-versus-a-copy\n",
      "  df['country'][8]='Germany'\n",
      "/var/folders/nl/g373_csn5kx03w80c1r1g7500000gn/T/ipykernel_19745/2304758411.py:5: SettingWithCopyWarning: \n",
      "A value is trying to be set on a copy of a slice from a DataFrame\n",
      "\n",
      "See the caveats in the documentation: https://pandas.pydata.org/pandas-docs/stable/user_guide/indexing.html#returning-a-view-versus-a-copy\n",
      "  df['country'][9]=\"Ireland\"\n"
     ]
    }
   ],
   "source": [
    "df['country'][0]='China'\n",
    "df['country'][1]='Russia'\n",
    "df['country'][5]='Iran'\n",
    "df['country'][8]='Germany'\n",
    "df['country'][9]=\"Ireland\""
   ]
  },
  {
   "cell_type": "code",
   "execution_count": 6,
   "id": "b7eff0ec",
   "metadata": {},
   "outputs": [],
   "source": [
    "df_carte_2019=df[df['date']==\"2019-12-01\"].reset_index(drop=True)\n",
    "g = open(path_json)\n",
    "data = json.load(g)"
   ]
  },
  {
   "cell_type": "code",
   "execution_count": null,
   "id": "6f73aeab",
   "metadata": {},
   "outputs": [],
   "source": [
    " px.choropleth_mapbox(df_carte_2019,geojson=data, locations='country',featureidkey=\"properties.ADMIN\", color='monthly_hashrate_%',\n",
    "                           color_continuous_scale=\"blues\",\n",
    "                           range_color=(0, 8),\n",
    "                           mapbox_style=\"carto-positron\",\n",
    "                           zoom=3, center = {\"lat\": 37.0902, \"lon\": -95.7129},\n",
    "                           opacity=0.7)\n",
    "    "
   ]
  },
  {
   "cell_type": "code",
   "execution_count": null,
   "id": "16451f0f",
   "metadata": {},
   "outputs": [],
   "source": []
  }
 ],
 "metadata": {
  "kernelspec": {
   "display_name": "Python 3 (ipykernel)",
   "language": "python",
   "name": "python3"
  },
  "language_info": {
   "codemirror_mode": {
    "name": "ipython",
    "version": 3
   },
   "file_extension": ".py",
   "mimetype": "text/x-python",
   "name": "python",
   "nbconvert_exporter": "python",
   "pygments_lexer": "ipython3",
   "version": "3.9.7"
  }
 },
 "nbformat": 4,
 "nbformat_minor": 5
}
