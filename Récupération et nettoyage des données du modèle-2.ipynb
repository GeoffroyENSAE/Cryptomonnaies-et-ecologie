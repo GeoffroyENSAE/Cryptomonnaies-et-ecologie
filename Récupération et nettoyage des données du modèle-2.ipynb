{
 "cells": [
  {
   "cell_type": "markdown",
   "metadata": {},
   "source": [
    "# Récupération et nettoyage des données du modèle"
   ]
  },
  {
   "cell_type": "code",
   "execution_count": 3,
   "metadata": {},
   "outputs": [],
   "source": [
    "import numpy as np\n",
    "\n",
    "import pandas as pd  \n"
   ]
  },
  {
   "cell_type": "code",
   "execution_count": 4,
   "metadata": {},
   "outputs": [],
   "source": [
    "path1 = 'https://raw.githubusercontent.com/GeoffroyENSAE/Cryptomonnaies-et-ecologie/main/Hashrate.csv'\n",
    "path2 = 'https://raw.githubusercontent.com/GeoffroyENSAE/Cryptomonnaies-et-ecologie/main/cours.csv'"
   ]
  },
  {
   "cell_type": "code",
   "execution_count": 5,
   "metadata": {},
   "outputs": [],
   "source": [
    "df1 = pd.read_csv(path1,sep=';') \n",
    "df2 = pd.read_csv(path2,sep=';')"
   ]
  },
  {
   "cell_type": "code",
   "execution_count": 6,
   "metadata": {},
   "outputs": [],
   "source": [
    "df1=df1.join(df1['DateTime'].str.split(' ',expand=True).rename(columns={0:'Date',1:'inutile',2:'Hashrate'}))\n",
    "df1=df1.drop(['DateTime','inutile'],axis=1)\n",
    "df2=df2.drop(['Ouv.','Plus Haut','Plus Bas','Vol.','Variation %'],axis=1)"
   ]
  },
  {
   "cell_type": "code",
   "execution_count": 7,
   "metadata": {},
   "outputs": [],
   "source": [
    "df1['Date'] = pd.to_datetime(df1['Date'])\n",
    "df2['Date'] = pd.to_datetime(df2['Date'])"
   ]
  },
  {
   "cell_type": "code",
   "execution_count": 8,
   "metadata": {},
   "outputs": [],
   "source": [
    "df2['Dernier']=df2['Dernier'].replace('.','')"
   ]
  },
  {
   "cell_type": "code",
   "execution_count": 9,
   "metadata": {},
   "outputs": [],
   "source": [
    "def nettoyer1(x):\n",
    "    return(float(x.replace(',','.')))\n",
    "\n",
    "def nettoyer2(x):\n",
    "    return(float((x.replace('.','')).replace(',','.')))\n",
    "\n",
    "def string(x):\n",
    "    return(str(x))\n",
    "\n",
    "def entier(x):\n",
    "    return(int(x))"
   ]
  },
  {
   "cell_type": "code",
   "execution_count": 10,
   "metadata": {},
   "outputs": [],
   "source": [
    "df1['Hash Rate']=df1['Hash Rate'].apply(nettoyer1)\n",
    "df2['Dernier']=df2['Dernier'].apply(nettoyer2)"
   ]
  },
  {
   "cell_type": "code",
   "execution_count": 11,
   "metadata": {},
   "outputs": [],
   "source": [
    "df=df1.merge(df2)\n",
    "df=df.assign(BTC=0)"
   ]
  },
  {
   "cell_type": "code",
   "execution_count": 12,
   "metadata": {},
   "outputs": [
    {
     "name": "stderr",
     "output_type": "stream",
     "text": [
      "<ipython-input-12-5bf19dc8d0d1>:2: SettingWithCopyWarning: \n",
      "A value is trying to be set on a copy of a slice from a DataFrame\n",
      "\n",
      "See the caveats in the documentation: https://pandas.pydata.org/pandas-docs/stable/user_guide/indexing.html#returning-a-view-versus-a-copy\n",
      "  df['BTC'][i]=3600\n",
      "<ipython-input-12-5bf19dc8d0d1>:5: SettingWithCopyWarning: \n",
      "A value is trying to be set on a copy of a slice from a DataFrame\n",
      "\n",
      "See the caveats in the documentation: https://pandas.pydata.org/pandas-docs/stable/user_guide/indexing.html#returning-a-view-versus-a-copy\n",
      "  df['BTC'][i]=1800\n",
      "<ipython-input-12-5bf19dc8d0d1>:8: SettingWithCopyWarning: \n",
      "A value is trying to be set on a copy of a slice from a DataFrame\n",
      "\n",
      "See the caveats in the documentation: https://pandas.pydata.org/pandas-docs/stable/user_guide/indexing.html#returning-a-view-versus-a-copy\n",
      "  df['BTC'][i]=900\n"
     ]
    }
   ],
   "source": [
    "for i in range(575):\n",
    "    df['BTC'][i]=3600\n",
    "\n",
    "for i in range(575,2035):\n",
    "    df['BTC'][i]=1800\n",
    "    \n",
    "for i in range(2035,2557):\n",
    "    df['BTC'][i]=900"
   ]
  },
  {
   "cell_type": "code",
   "execution_count": 13,
   "metadata": {},
   "outputs": [],
   "source": [
    "df=df.assign(Seuil=(df['BTC']*df['Dernier'])/(0.1*24)/(df['Hash Rate']*10**(-12)))"
   ]
  },
  {
   "cell_type": "code",
   "execution_count": 14,
   "metadata": {},
   "outputs": [],
   "source": [
    "df['Seuil']=df['Seuil'].rolling(50).mean()"
   ]
  },
  {
   "cell_type": "code",
   "execution_count": 15,
   "metadata": {},
   "outputs": [],
   "source": [
    "path = 'https://raw.githubusercontent.com/GeoffroyENSAE/Cryptomonnaies-et-ecologie/main/equipement.csv'"
   ]
  },
  {
   "cell_type": "code",
   "execution_count": 16,
   "metadata": {},
   "outputs": [],
   "source": [
    "df3 = pd.read_csv(path,sep=',')"
   ]
  },
  {
   "cell_type": "code",
   "execution_count": 17,
   "metadata": {},
   "outputs": [],
   "source": [
    "df3=df3.drop(['Unnamed: 8','Unnamed: 9','Unnamed: 1','Unnamed: 3'],axis=1)"
   ]
  },
  {
   "cell_type": "code",
   "execution_count": 18,
   "metadata": {},
   "outputs": [],
   "source": [
    "df3.drop(df3.index[0:13],0,inplace=True)"
   ]
  },
  {
   "cell_type": "code",
   "execution_count": 19,
   "metadata": {},
   "outputs": [],
   "source": [
    "df3=df3.rename(columns = {'CBECI SHA-256 Mining Equipment List': 'Mineur', 'Unnamed: 2':'Date' \n",
    "                        , 'Unnamed: 1': 'Date de sortie','Unnamed: 4': 'Hashing power (Th/s)', 'Unnamed: 5': 'Puissance (W)', 'Unnamed: 6': 'Efficacité (J/Gh)', 'Unnamed: 7': 'Poids (kg)'})"
   ]
  },
  {
   "cell_type": "code",
   "execution_count": 20,
   "metadata": {},
   "outputs": [],
   "source": [
    "def date(x):\n",
    "    return('01.'+x)"
   ]
  },
  {
   "cell_type": "code",
   "execution_count": 21,
   "metadata": {},
   "outputs": [],
   "source": [
    "df3['Date']=df3['Date'].apply(date)"
   ]
  },
  {
   "cell_type": "code",
   "execution_count": 22,
   "metadata": {},
   "outputs": [],
   "source": [
    "def inverser(x):\n",
    "    return(x[3:6]+x[0:3]+x[6:10])"
   ]
  },
  {
   "cell_type": "code",
   "execution_count": 23,
   "metadata": {},
   "outputs": [],
   "source": [
    "df3['Date']=df3['Date'].apply(inverser)"
   ]
  },
  {
   "cell_type": "code",
   "execution_count": 24,
   "metadata": {},
   "outputs": [],
   "source": [
    "df3['Date'] = pd.to_datetime(df3['Date'])"
   ]
  },
  {
   "cell_type": "code",
   "execution_count": 25,
   "metadata": {},
   "outputs": [],
   "source": [
    "df=df.merge(df3,how='outer')"
   ]
  },
  {
   "cell_type": "code",
   "execution_count": 26,
   "metadata": {},
   "outputs": [],
   "source": [
    "df['Efficacité (J/Gh)'] = df['Efficacité (J/Gh)'].fillna(0)"
   ]
  },
  {
   "cell_type": "code",
   "execution_count": 27,
   "metadata": {},
   "outputs": [],
   "source": [
    "df['Efficacité (J/Gh)']=df['Efficacité (J/Gh)'].astype(float)"
   ]
  },
  {
   "cell_type": "code",
   "execution_count": 28,
   "metadata": {},
   "outputs": [
    {
     "name": "stderr",
     "output_type": "stream",
     "text": [
      "<ipython-input-28-2fa8926b2a51>:3: SettingWithCopyWarning: \n",
      "A value is trying to be set on a copy of a slice from a DataFrame\n",
      "\n",
      "See the caveats in the documentation: https://pandas.pydata.org/pandas-docs/stable/user_guide/indexing.html#returning-a-view-versus-a-copy\n",
      "  df['Efficacité (J/Gh)'][i]=-10\n"
     ]
    }
   ],
   "source": [
    "for i in range(2609):\n",
    "    if df['Efficacité (J/Gh)'][i]==0.:\n",
    "        df['Efficacité (J/Gh)'][i]=-10"
   ]
  },
  {
   "cell_type": "code",
   "execution_count": null,
   "metadata": {},
   "outputs": [],
   "source": []
  }
 ],
 "metadata": {
  "kernelspec": {
   "display_name": "Python 3",
   "language": "python",
   "name": "python3"
  },
  "language_info": {
   "codemirror_mode": {
    "name": "ipython",
    "version": 3
   },
   "file_extension": ".py",
   "mimetype": "text/x-python",
   "name": "python",
   "nbconvert_exporter": "python",
   "pygments_lexer": "ipython3",
   "version": "3.8.3"
  }
 },
 "nbformat": 4,
 "nbformat_minor": 4
}
