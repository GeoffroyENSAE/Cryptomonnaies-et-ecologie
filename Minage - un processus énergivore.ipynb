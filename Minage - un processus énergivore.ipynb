{
 "cells": [
  {
   "cell_type": "markdown",
   "metadata": {},
   "source": [
    "## Annexe : Le minage : un processus énergivore"
   ]
  },
  {
   "cell_type": "markdown",
   "metadata": {},
   "source": [
    "Afin de rendre compte du désastre écologique que représente le Bitcoin, il faut comprendre le processus qui le gouverne. Commençons donc par décortiquer le fonctionnement du Bitcoin, très différent des monnaies classiques, puisque décentralisé. Toutes les technologies de blockchain se basent sur un principe commun. Ce principe a un nom qui fait une référence archaïque étonnante pour ce type de technologie de pointe : le minage. Mais de quoi s'agit-il réellement ?\n",
    "\n",
    "Chaque utilisateur possède un \"portefeuille\" (wallet en anglais) qui lui sert à stocker ses cryptomonnaies et à déclencher des transactions sur le réseau correspondant. Un utilisateur déclenche une transaction à partir de son application de portefeuille, en essayant d’envoyer une crypto-monnaie à quelqu’un d’autre. La transaction est diffusée sur le réseau par l’application de portefeuille. Elle attend maintenant d’être récupérée par un mineur de la blockchain pour être intégrée à un bloc. Tant qu’elle n’est pas récupérée, elle est placée dans un \"pool de transactions non confirmées\". Ce pool est un ensemble de transactions non confirmées sur le réseau, en attente de traitement.\n",
    "\n",
    "Les mineurs du réseau, travaillant au niveau de leurs nœuds respectifs, rassemblent donc un ensemble de transactions de ce pool pour constituer un bloc. Un bloc est fondamentalement un ensemble de transactions (pour le moment, non encore confirmées), auxquelles viennent s’ajouter des métadonnées. Chaque mineur construit son propre bloc de transactions issues du pool commun. Il est donc possible que plusieurs mineurs sélectionnent la même transaction à inclure dans leurs blocs. Comment les mineurs choisissent-ils les transactions à inclure dans un bloc? La réponse est simple. Ils perçoivent une rémunération pour chaque transaction minée avec succès. Certaines transactions leur rapportent plus que d’autres. Ainsi, les mineurs obtiennent une récompense de 6,25 BTC chaque fois qu’ils extraient avec succès un bloc Bitcoin. En plus de cette récompense fixe de 6,25 BTC, ils reçoivent également une quantité supplémentaire de bitcoins appelée «frais de transaction» et définie par chaque émetteur de transaction. Ces montants constituent de nouveaux Bitcoins créés spécialement à cet effet. Les mineurs accordent généralement la priorité aux transactions comportant des frais de transaction importants pour obtenir une meilleure rémunération.\n",
    "\tEn sélectionnant des transactions et en les ajoutant à leur bloc, les mineurs créent un bloc de transactions. Pour ajouter ce bloc de transactions à la blockchain (pour que tous les autres mineurs et nœuds enregistrent les transactions), le bloc doit tout d’abord obtenir une signature (également appelée preuve de travail). Cette signature est créée en résolvant un problème mathématique très complexe, unique à chaque bloc de transactions.Chaque bloc a un problème mathématique différent à résoudre. Ainsi chaque mineur travaillera sur un problème différent et unique, propre au bloc qu’il a construit. Tous ces problèmes sont aussi difficiles à résoudre les uns que les autres. Afin de résoudre ce problème mathématique, il faut disposer de beaucoup de puissance de calcul. C’est le processus appelé processus de minage. Les mineurs proposent la puissance de calcul de leurs ordinateurs pour enregistrer et sécuriser les transactions. En échange, ils reçoivent une rétribution comme nous l’avons vu, par des bitcoins spécialement créés. Ce système est très énergivore.\n",
    "\n",
    "En effet, la preuve de travail nécessite de trouver le bon antécédent de la fonction de hachage, fonction qui prend en entrée, une chaîne de caractères (littéralement toute chaîne de lettres, chiffres et / ou symboles) et la transforme en une nouvelle chaîne de 32 caractères composée de lettres et de chiffres apparemment aléatoires. Cette chaîne de 32 caractères est la sortie du hachage. Si on modifie un nombre ou une lettre dans la chaîne d’entrée, la sortie de hachage changera également de manière aléatoire. Cependant, une même chaîne d’entrée donnera toujours la même chaîne de sortie. Considérons maintenant les données d’un bloc comme l’entrée de hachage (sous forme d’une chaîne de données). Lorsque cette entrée est hachée, elle donne une sortie de hachage (chaîne de 32 chiffres) unique. Une règle de la blockchain est qu’on ne peut ajouter un bloc à la blockchain que si sa signature (la sortie de hachage) commence par une certaine quantité de zéro. Or il n’est pas du tout évident que le résultat du hachage commence par le nombre de zéros nécessaires. C’est la raison pour laquelle les mineurs modifient à plusieurs reprises une partie des données à l’intérieur de leur bloc. Il ne peuvent pas modifier les données des transactions. C’est pour ça qu’ils rajoutent une chaîne de données aléatoires à la chaîne de transactions, appelée le nonce. Chaque fois qu’un mineur modifie le nonce, cela modifie la chaîne d’entrée, ce qui entraîne également une chaîne de sortie différente (signature). Les mineurs répètent ce processus indéfiniment jusqu’à ce qu’ils obtiennent une chaîne de sortie répondant aux exigences de la signature. Les mineurs doivent trouver une signature éligible. Et c’est la raison pour laquelle une telle puissance informatique est nécessaire pour résoudre ce problème en un temps limité. Deviner autant de nonces différents prend beaucoup de temps et de puissance de calcul. Plus la puissance de hachage (mineurs) augmente et plus la difficulté du problème mathématique augmentera. Et cela entraînera des dépenses en électricité encore plus élevées.\n",
    "\n",
    "Pour palier à la croissance permanente de la difficulté du problème mathématique, les mineurs se regroupent généralement en pool de minage, additionnent leur puissance de calcul, et partagent alors les gains. "
   ]
  },
  {
   "cell_type": "code",
   "execution_count": null,
   "metadata": {},
   "outputs": [],
   "source": []
  }
 ],
 "metadata": {
  "kernelspec": {
   "display_name": "Python 3",
   "language": "python",
   "name": "python3"
  },
  "language_info": {
   "codemirror_mode": {
    "name": "ipython",
    "version": 3
   },
   "file_extension": ".py",
   "mimetype": "text/x-python",
   "name": "python",
   "nbconvert_exporter": "python",
   "pygments_lexer": "ipython3",
   "version": "3.8.3"
  }
 },
 "nbformat": 4,
 "nbformat_minor": 4
}
